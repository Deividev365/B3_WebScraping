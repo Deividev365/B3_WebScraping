{
 "cells": [
  {
   "cell_type": "code",
   "execution_count": 5,
   "id": "36a5780d",
   "metadata": {},
   "outputs": [],
   "source": [
    "url = 'https://www.infomoney.com.br/ferramentas/altas-e-baixas/'"
   ]
  },
  {
   "cell_type": "code",
   "execution_count": 6,
   "id": "a01a3249",
   "metadata": {},
   "outputs": [],
   "source": [
    "from selenium import webdriver"
   ]
  },
  {
   "cell_type": "code",
   "execution_count": 7,
   "id": "0a4c20e1",
   "metadata": {},
   "outputs": [],
   "source": [
    "import pandas as pd"
   ]
  },
  {
   "cell_type": "code",
   "execution_count": 8,
   "id": "c35fc920",
   "metadata": {},
   "outputs": [],
   "source": [
    "import os"
   ]
  },
  {
   "cell_type": "code",
   "execution_count": 9,
   "id": "df4dd663",
   "metadata": {},
   "outputs": [],
   "source": [
    "path = os.getcwd()"
   ]
  },
  {
   "cell_type": "code",
   "execution_count": 10,
   "id": "6b6840b2",
   "metadata": {},
   "outputs": [
    {
     "data": {
      "text/plain": [
       "'C:\\\\Users\\\\Deivid\\\\webscrapings'"
      ]
     },
     "execution_count": 10,
     "metadata": {},
     "output_type": "execute_result"
    }
   ],
   "source": [
    "path"
   ]
  },
  {
   "cell_type": "code",
   "execution_count": 11,
   "id": "8cbfcf07",
   "metadata": {},
   "outputs": [],
   "source": [
    "driver = path + '\\\\chromedriver.exe'"
   ]
  },
  {
   "cell_type": "code",
   "execution_count": 12,
   "id": "b5ec9f53",
   "metadata": {},
   "outputs": [
    {
     "name": "stderr",
     "output_type": "stream",
     "text": [
      "C:\\Users\\Deivid\\AppData\\Local\\Temp\\ipykernel_9512\\4176045484.py:1: DeprecationWarning: executable_path has been deprecated, please pass in a Service object\n",
      "  browser = webdriver.Chrome(driver)\n"
     ]
    }
   ],
   "source": [
    "browser = webdriver.Chrome(driver)"
   ]
  },
  {
   "cell_type": "code",
   "execution_count": 13,
   "id": "d9bbff6a",
   "metadata": {},
   "outputs": [],
   "source": [
    "browser.get(url)"
   ]
  },
  {
   "cell_type": "code",
   "execution_count": 14,
   "id": "55c9c7a7",
   "metadata": {},
   "outputs": [
    {
     "data": {
      "text/plain": [
       "<selenium.webdriver.remote.webelement.WebElement (session=\"0c39ede518345ed457c118fa8e890f13\", element=\"c02f4184-7d6a-4e2a-9b75-b83b9a40e1ab\")>"
      ]
     },
     "execution_count": 14,
     "metadata": {},
     "output_type": "execute_result"
    }
   ],
   "source": [
    "browser.find_element(\"xpath\",'//*[@id=\"altas_e_baixas\"]')"
   ]
  },
  {
   "cell_type": "code",
   "execution_count": 17,
   "id": "f7070091",
   "metadata": {},
   "outputs": [],
   "source": [
    "browser.find_element(\"xpath\",'//*[@id=\"altas_e_baixas\"]/thead/tr/th[4]').click()"
   ]
  },
  {
   "cell_type": "code",
   "execution_count": 20,
   "id": "19952617",
   "metadata": {},
   "outputs": [],
   "source": [
    "tabela_din = browser.find_element(\"xpath\",'//*[@id=\"altas_e_baixas\"]').get_attribute('outerHTML')"
   ]
  },
  {
   "cell_type": "code",
   "execution_count": 21,
   "id": "52f3ca6a",
   "metadata": {},
   "outputs": [
    {
     "data": {
      "text/plain": [
       "'<table id=\"altas_e_baixas\" class=\"default-table dataTable no-footer\" role=\"grid\">\\n                                <thead><tr role=\"row\"><th class=\"sorting\" tabindex=\"0\" aria-controls=\"altas_e_baixas\" rowspan=\"1\" colspan=\"1\" aria-label=\"Ativo: activate to sort column ascending\" style=\"width: 47.3125px;\">Ativo</th><th class=\"sorting\" tabindex=\"0\" aria-controls=\"altas_e_baixas\" rowspan=\"1\" colspan=\"1\" aria-label=\"Data: activate to sort column ascending\" style=\"width: 41.3594px;\">Data</th><th class=\"sorting\" tabindex=\"0\" aria-controls=\"altas_e_baixas\" rowspan=\"1\" colspan=\"1\" aria-label=\"Último (R$): activate to sort column ascending\" style=\"width: 91.1094px;\">Último (R$)</th><th class=\"sorting_desc\" tabindex=\"0\" aria-controls=\"altas_e_baixas\" rowspan=\"1\" colspan=\"1\" aria-label=\"Var. Dia (%) : activate to sort column ascending\" style=\"width: 91.9219px;\" aria-sort=\"descending\">Var. Dia (%) </th><th class=\"sorting\" tabindex=\"0\" aria-controls=\"altas_e_baixas\" rowspan=\"1\" colspan=\"1\" aria-label=\"Var. Sem. (%) : activate to sort column ascending\" style=\"width: 104.078px;\">Var. Sem. (%) </th><th class=\"sorting\" tabindex=\"0\" aria-controls=\"altas_e_baixas\" rowspan=\"1\" colspan=\"1\" aria-label=\"Var. Mês (%): activate to sort column ascending\" style=\"width: 100.047px;\">Var. Mês (%)</th><th class=\"sorting\" tabindex=\"0\" aria-controls=\"altas_e_baixas\" rowspan=\"1\" colspan=\"1\" aria-label=\"Var. Ano (%): activate to sort column ascending\" style=\"width: 99.2188px;\">Var. Ano (%)</th><th class=\"sorting\" tabindex=\"0\" aria-controls=\"altas_e_baixas\" rowspan=\"1\" colspan=\"1\" aria-label=\"Var. 12M (%): activate to sort column ascending\" style=\"width: 96.8125px;\">Var. 12M (%)</th><th class=\"sorting\" tabindex=\"0\" aria-controls=\"altas_e_baixas\" rowspan=\"1\" colspan=\"1\" aria-label=\"Val. Mín: activate to sort column ascending\" style=\"width: 65.9688px;\">Val. Mín</th><th class=\"sorting\" tabindex=\"0\" aria-controls=\"altas_e_baixas\" rowspan=\"1\" colspan=\"1\" aria-label=\"Val. Máx: activate to sort column ascending\" style=\"width: 70.8438px;\">Val. Máx</th><th class=\"sorting\" tabindex=\"0\" aria-controls=\"altas_e_baixas\" rowspan=\"1\" colspan=\"1\" aria-label=\"Volume: activate to sort column ascending\" style=\"width: 66.3281px;\">Volume</th></tr></thead><tbody><tr role=\"row\" class=\"odd\"><td><a href=\"https://www.infomoney.com.br/AMER3\">AMER3</a></td><td>06/01</td><td>10,41</td><td class=\"positive sorting_1\">7,43</td><td class=\"positive\">7,88</td><td class=\"positive\">7,88</td><td class=\"positive\">7,88</td><td class=\"negative\">-63,52</td><td>9,58</td><td>10,43</td><td>293,14 M</td></tr><tr role=\"row\" class=\"even\"><td><a href=\"https://www.infomoney.com.br/QUAL3\">QUAL3</a></td><td>06/01</td><td>6,32</td><td class=\"positive sorting_1\">6,57</td><td class=\"positive\">7,67</td><td class=\"positive\">7,67</td><td class=\"positive\">7,67</td><td class=\"negative\">-57,81</td><td>5,82</td><td>6,32</td><td>33,86 M</td></tr><tr role=\"row\" class=\"odd\"><td><a href=\"https://www.infomoney.com.br/CVCB3\">CVCB3</a></td><td>06/01</td><td>4,62</td><td class=\"positive sorting_1\">6,20</td><td class=\"positive\">2,90</td><td class=\"positive\">2,90</td><td class=\"positive\">2,90</td><td class=\"negative\">-59,15</td><td>4,29</td><td>4,62</td><td>83,36 M</td></tr><tr role=\"row\" class=\"even\"><td><a href=\"https://www.infomoney.com.br/CMIN3\">CMIN3</a></td><td>06/01</td><td>4,30</td><td class=\"positive sorting_1\">6,17</td><td class=\"positive\">5,39</td><td class=\"positive\">5,39</td><td class=\"positive\">5,39</td><td class=\"negative\">-22,49</td><td>4,10</td><td>4,35</td><td>81,45 M</td></tr><tr role=\"row\" class=\"odd\"><td><a href=\"https://www.infomoney.com.br/ENEV3\">ENEV3</a></td><td>06/01</td><td>12,38</td><td class=\"positive sorting_1\">5,72</td><td class=\"positive\">3,77</td><td class=\"positive\">3,77</td><td class=\"positive\">3,77</td><td class=\"positive\">1,39</td><td>11,69</td><td>12,45</td><td>156,96 M</td></tr><tr role=\"row\" class=\"even\"><td><a href=\"https://www.infomoney.com.br/ECOR3\">ECOR3</a></td><td>06/01</td><td>4,49</td><td class=\"positive sorting_1\">5,64</td><td class=\"positive\">0,90</td><td class=\"positive\">0,90</td><td class=\"positive\">0,90</td><td class=\"negative\">-35,23</td><td>4,20</td><td>4,49</td><td>34,72 M</td></tr><tr role=\"row\" class=\"odd\"><td><a href=\"https://www.infomoney.com.br/NTCO3\">NTCO3</a></td><td>06/01</td><td>12,25</td><td class=\"positive sorting_1\">4,70</td><td class=\"positive\">5,51</td><td class=\"positive\">5,51</td><td class=\"positive\">5,51</td><td class=\"negative\">-46,06</td><td>11,54</td><td>12,34</td><td>179,26 M</td></tr><tr role=\"row\" class=\"even\"><td><a href=\"https://www.infomoney.com.br/CYRE3\">CYRE3</a></td><td>06/01</td><td>13,71</td><td class=\"positive sorting_1\">4,65</td><td class=\"positive\">4,90</td><td class=\"positive\">4,90</td><td class=\"positive\">4,90</td><td class=\"positive\">3,44</td><td>13,00</td><td>13,84</td><td>154,62 M</td></tr><tr role=\"row\" class=\"odd\"><td><a href=\"https://www.infomoney.com.br/SOMA3\">SOMA3</a></td><td>06/01</td><td>10,12</td><td class=\"positive sorting_1\">4,22</td><td class=\"negative\">-0,20</td><td class=\"negative\">-0,20</td><td class=\"negative\">-0,20</td><td class=\"negative\">-5,15</td><td>9,61</td><td>10,29</td><td>63,43 M</td></tr><tr role=\"row\" class=\"even\"><td><a href=\"https://www.infomoney.com.br/CSNA3\">CSNA3</a></td><td>06/01</td><td>16,27</td><td class=\"positive sorting_1\">4,09</td><td class=\"positive\">11,82</td><td class=\"positive\">11,82</td><td class=\"positive\">11,82</td><td class=\"negative\">-18,40</td><td>15,61</td><td>16,73</td><td>261,04 M</td></tr><tr role=\"row\" class=\"odd\"><td><a href=\"https://www.infomoney.com.br/MGLU3\">MGLU3</a></td><td>06/01</td><td>2,76</td><td class=\"positive sorting_1\">3,75</td><td class=\"positive\">0,73</td><td class=\"positive\">0,73</td><td class=\"positive\">0,73</td><td class=\"negative\">-55,84</td><td>2,60</td><td>2,77</td><td>389,69 M</td></tr><tr role=\"row\" class=\"even\"><td><a href=\"https://www.infomoney.com.br/LREN3\">LREN3</a></td><td>06/01</td><td>19,39</td><td class=\"positive sorting_1\">3,68</td><td class=\"negative\">-5,32</td><td class=\"negative\">-5,32</td><td class=\"negative\">-5,32</td><td class=\"negative\">-12,81</td><td>18,78</td><td>19,58</td><td>440,28 M</td></tr><tr role=\"row\" class=\"odd\"><td><a href=\"https://www.infomoney.com.br/GOLL4\">GOLL4</a></td><td>06/01</td><td>7,62</td><td class=\"positive sorting_1\">3,67</td><td class=\"positive\">3,81</td><td class=\"positive\">3,81</td><td class=\"positive\">3,81</td><td class=\"negative\">-50,84</td><td>7,25</td><td>7,65</td><td>60,21 M</td></tr><tr role=\"row\" class=\"even\"><td><a href=\"https://www.infomoney.com.br/YDUQ3\">YDUQ3</a></td><td>06/01</td><td>9,75</td><td class=\"positive sorting_1\">3,61</td><td class=\"negative\">-4,13</td><td class=\"negative\">-4,13</td><td class=\"negative\">-4,13</td><td class=\"negative\">-47,98</td><td>9,36</td><td>9,81</td><td>53,48 M</td></tr><tr role=\"row\" class=\"odd\"><td><a href=\"https://www.infomoney.com.br/CSAN3\">CSAN3</a></td><td>06/01</td><td>16,58</td><td class=\"positive sorting_1\">3,49</td><td class=\"negative\">-3,15</td><td class=\"negative\">-3,15</td><td class=\"negative\">-3,15</td><td class=\"negative\">-14,21</td><td>16,00</td><td>16,60</td><td>114,06 M</td></tr><tr role=\"row\" class=\"even\"><td><a href=\"https://www.infomoney.com.br/BRFS3\">BRFS3</a></td><td>06/01</td><td>8,64</td><td class=\"positive sorting_1\">3,10</td><td class=\"positive\">4,35</td><td class=\"positive\">4,35</td><td class=\"positive\">4,35</td><td class=\"negative\">-64,44</td><td>8,21</td><td>8,68</td><td>137,76 M</td></tr><tr role=\"row\" class=\"odd\"><td><a href=\"https://www.infomoney.com.br/FLRY3\">FLRY3</a></td><td>06/01</td><td>15,59</td><td class=\"positive sorting_1\">3,10</td><td class=\"positive\">0,91</td><td class=\"positive\">0,91</td><td class=\"positive\">0,91</td><td class=\"positive\">0,70</td><td>15,02</td><td>15,64</td><td>55,51 M</td></tr><tr role=\"row\" class=\"even\"><td><a href=\"https://www.infomoney.com.br/PETZ3\">PETZ3</a></td><td>06/01</td><td>6,18</td><td class=\"positive sorting_1\">3,00</td><td class=\"negative\">-1,28</td><td class=\"negative\">-1,28</td><td class=\"negative\">-1,28</td><td class=\"negative\">-55,84</td><td>5,95</td><td>6,33</td><td>58,77 M</td></tr><tr role=\"row\" class=\"odd\"><td><a href=\"https://www.infomoney.com.br/VIIA3\">VIIA3</a></td><td>06/01</td><td>2,41</td><td class=\"positive sorting_1\">2,99</td><td class=\"positive\">0,42</td><td class=\"positive\">0,42</td><td class=\"positive\">0,42</td><td class=\"negative\">-44,72</td><td>2,31</td><td>2,43</td><td>155,37 M</td></tr><tr role=\"row\" class=\"even\"><td><a href=\"https://www.infomoney.com.br/BBSE3\">BBSE3</a></td><td>06/01</td><td>33,53</td><td class=\"positive sorting_1\">2,91</td><td class=\"negative\">-0,53</td><td class=\"negative\">-0,53</td><td class=\"negative\">-0,53</td><td class=\"positive\">76,63</td><td>32,44</td><td>33,54</td><td>123,8 M</td></tr><tr role=\"row\" class=\"odd\"><td><a href=\"https://www.infomoney.com.br/EZTC3\">EZTC3</a></td><td>06/01</td><td>13,52</td><td class=\"positive sorting_1\">2,89</td><td class=\"positive\">0,67</td><td class=\"positive\">0,67</td><td class=\"positive\">0,67</td><td class=\"negative\">-18,64</td><td>12,94</td><td>13,59</td><td>33,55 M</td></tr><tr role=\"row\" class=\"even\"><td><a href=\"https://www.infomoney.com.br/BBDC4\">BBDC4</a></td><td>06/01</td><td>15,06</td><td class=\"positive sorting_1\">2,79</td><td class=\"negative\">-0,46</td><td class=\"negative\">-0,46</td><td class=\"negative\">-0,46</td><td class=\"negative\">-14,94</td><td>14,50</td><td>15,08</td><td>1,28 B</td></tr><tr role=\"row\" class=\"odd\"><td><a href=\"https://www.infomoney.com.br/MULT3\">MULT3</a></td><td>06/01</td><td>21,49</td><td class=\"positive sorting_1\">2,67</td><td class=\"negative\">-1,87</td><td class=\"negative\">-1,87</td><td class=\"negative\">-1,87</td><td class=\"positive\">32,34</td><td>20,81</td><td>21,57</td><td>98,64 M</td></tr><tr role=\"row\" class=\"even\"><td><a href=\"https://www.infomoney.com.br/BBDC3\">BBDC3</a></td><td>06/01</td><td>13,42</td><td class=\"positive sorting_1\">2,67</td><td class=\"negative\">-0,30</td><td class=\"negative\">-0,30</td><td class=\"negative\">-0,30</td><td class=\"negative\">-8,92</td><td>13,07</td><td>13,45</td><td>126,2 M</td></tr><tr role=\"row\" class=\"odd\"><td><a href=\"https://www.infomoney.com.br/AZUL4\">AZUL4</a></td><td>06/01</td><td>11,84</td><td class=\"positive sorting_1\">2,51</td><td class=\"positive\">7,54</td><td class=\"positive\">7,54</td><td class=\"positive\">7,54</td><td class=\"negative\">-48,63</td><td>11,40</td><td>12,03</td><td>177,13 M</td></tr><tr role=\"row\" class=\"even\"><td><a href=\"https://www.infomoney.com.br/B3SA3\">B3SA3</a></td><td>06/01</td><td>12,59</td><td class=\"positive sorting_1\">2,35</td><td class=\"negative\">-4,33</td><td class=\"negative\">-4,33</td><td class=\"negative\">-4,33</td><td class=\"positive\">18,67</td><td>12,24</td><td>12,74</td><td>234,74 M</td></tr><tr role=\"row\" class=\"odd\"><td><a href=\"https://www.infomoney.com.br/BRML3\">BRML3</a></td><td>06/01</td><td>8,26</td><td class=\"positive sorting_1\">2,35</td><td class=\"negative\">-0,48</td><td class=\"negative\">-0,48</td><td class=\"negative\">-0,48</td><td class=\"positive\">13,13</td><td>8,09</td><td>8,29</td><td>132,88 M</td></tr><tr role=\"row\" class=\"even\"><td><a href=\"https://www.infomoney.com.br/VIVT3\">VIVT3</a></td><td>06/01</td><td>38,22</td><td class=\"positive sorting_1\">2,13</td><td class=\"positive\">2,25</td><td class=\"positive\">2,25</td><td class=\"positive\">2,25</td><td class=\"negative\">-13,24</td><td>37,22</td><td>38,42</td><td>88,45 M</td></tr><tr role=\"row\" class=\"odd\"><td><a href=\"https://www.infomoney.com.br/RADL3\">RADL3</a></td><td>06/01</td><td>23,89</td><td class=\"positive sorting_1\">2,05</td><td class=\"positive\">0,72</td><td class=\"positive\">0,72</td><td class=\"positive\">0,72</td><td class=\"positive\">10,74</td><td>23,28</td><td>24,17</td><td>181,2 M</td></tr><tr role=\"row\" class=\"even\"><td><a href=\"https://www.infomoney.com.br/ARZZ3\">ARZZ3</a></td><td>06/01</td><td>75,80</td><td class=\"positive sorting_1\">1,96</td><td class=\"negative\">-3,13</td><td class=\"negative\">-3,13</td><td class=\"negative\">-3,13</td><td class=\"positive\">13,97</td><td>73,51</td><td>77,00</td><td>58,45 M</td></tr><tr role=\"row\" class=\"odd\"><td><a href=\"https://www.infomoney.com.br/COGN3\">COGN3</a></td><td>06/01</td><td>2,09</td><td class=\"positive sorting_1\">1,95</td><td class=\"negative\">-1,42</td><td class=\"negative\">-1,42</td><td class=\"negative\">-1,42</td><td class=\"positive\">0,00</td><td>2,02</td><td>2,11</td><td>92,28 M</td></tr><tr role=\"row\" class=\"even\"><td><a href=\"https://www.infomoney.com.br/RENT3\">RENT3</a></td><td>06/01</td><td>51,97</td><td class=\"positive sorting_1\">1,90</td><td class=\"negative\">-2,31</td><td class=\"negative\">-2,31</td><td class=\"negative\">-2,31</td><td class=\"positive\">6,61</td><td>50,77</td><td>52,85</td><td>219,87 M</td></tr><tr role=\"row\" class=\"odd\"><td><a href=\"https://www.infomoney.com.br/ITUB4\">ITUB4</a></td><td>06/01</td><td>25,23</td><td class=\"positive sorting_1\">1,73</td><td class=\"positive\">1,00</td><td class=\"positive\">1,00</td><td class=\"positive\">1,00</td><td class=\"positive\">18,05</td><td>24,80</td><td>25,31</td><td>942,92 M</td></tr><tr role=\"row\" class=\"even\"><td><a href=\"https://www.infomoney.com.br/RRRP3\">RRRP3</a></td><td>06/01</td><td>37,89</td><td class=\"positive sorting_1\">1,71</td><td class=\"positive\">0,37</td><td class=\"positive\">0,37</td><td class=\"positive\">0,37</td><td class=\"positive\">19,11</td><td>36,98</td><td>38,69</td><td>169,72 M</td></tr><tr role=\"row\" class=\"odd\"><td><a href=\"https://www.infomoney.com.br/ITSA4\">ITSA4</a></td><td>06/01</td><td>8,48</td><td class=\"positive sorting_1\">1,67</td><td class=\"negative\">-0,35</td><td class=\"negative\">-0,35</td><td class=\"negative\">-0,35</td><td class=\"positive\">9,22</td><td>8,35</td><td>8,51</td><td>171,8 M</td></tr><tr role=\"row\" class=\"even\"><td><a href=\"https://www.infomoney.com.br/TOTS3\">TOTS3</a></td><td>06/01</td><td>27,34</td><td class=\"positive sorting_1\">1,63</td><td class=\"negative\">-0,36</td><td class=\"negative\">-0,36</td><td class=\"negative\">-0,36</td><td class=\"positive\">6,19</td><td>26,69</td><td>27,66</td><td>89,03 M</td></tr><tr role=\"row\" class=\"odd\"><td><a href=\"https://www.infomoney.com.br/VALE3\">VALE3</a></td><td>06/01</td><td>92,34</td><td class=\"positive sorting_1\">1,58</td><td class=\"positive\">3,89</td><td class=\"positive\">3,89</td><td class=\"positive\">3,89</td><td class=\"positive\">27,03</td><td>91,00</td><td>92,74</td><td>2,89 B</td></tr><tr role=\"row\" class=\"even\"><td><a href=\"https://www.infomoney.com.br/BPAN4\">BPAN4</a></td><td>06/01</td><td>5,86</td><td class=\"positive sorting_1\">1,55</td><td class=\"negative\">-3,46</td><td class=\"negative\">-3,46</td><td class=\"negative\">-3,46</td><td class=\"negative\">-36,35</td><td>5,76</td><td>5,97</td><td>15,01 M</td></tr><tr role=\"row\" class=\"odd\"><td><a href=\"https://www.infomoney.com.br/WEGE3\">WEGE3</a></td><td>06/01</td><td>38,03</td><td class=\"positive sorting_1\">1,46</td><td class=\"negative\">-1,25</td><td class=\"negative\">-1,25</td><td class=\"negative\">-1,25</td><td class=\"positive\">28,33</td><td>37,30</td><td>38,27</td><td>154,2 M</td></tr><tr role=\"row\" class=\"even\"><td><a href=\"https://www.infomoney.com.br/BEEF3\">BEEF3</a></td><td>06/01</td><td>13,27</td><td class=\"positive sorting_1\">1,45</td><td class=\"positive\">2,39</td><td class=\"positive\">2,39</td><td class=\"positive\">2,39</td><td class=\"positive\">37,43</td><td>12,87</td><td>13,35</td><td>71,88 M</td></tr><tr role=\"row\" class=\"odd\"><td><a href=\"https://www.infomoney.com.br/CIEL3\">CIEL3</a></td><td>06/01</td><td>4,96</td><td class=\"positive sorting_1\">1,43</td><td class=\"negative\">-5,34</td><td class=\"negative\">-5,34</td><td class=\"negative\">-5,34</td><td class=\"positive\">152,43</td><td>4,86</td><td>5,06</td><td>159,87 M</td></tr><tr role=\"row\" class=\"even\"><td><a href=\"https://www.infomoney.com.br/HYPE3\">HYPE3</a></td><td>06/01</td><td>43,13</td><td class=\"positive sorting_1\">1,43</td><td class=\"negative\">-4,58</td><td class=\"negative\">-4,58</td><td class=\"negative\">-4,58</td><td class=\"positive\">63,54</td><td>42,32</td><td>43,22</td><td>103,92 M</td></tr><tr role=\"row\" class=\"odd\"><td><a href=\"https://www.infomoney.com.br/BBAS3\">BBAS3</a></td><td>06/01</td><td>35,05</td><td class=\"positive sorting_1\">1,38</td><td class=\"positive\">0,92</td><td class=\"positive\">0,92</td><td class=\"positive\">0,92</td><td class=\"positive\">36,20</td><td>34,44</td><td>35,27</td><td>514 M</td></tr><tr role=\"row\" class=\"even\"><td><a href=\"https://www.infomoney.com.br/TIMS3\">TIMS3</a></td><td>06/01</td><td>11,94</td><td class=\"positive sorting_1\">1,27</td><td class=\"negative\">-3,71</td><td class=\"negative\">-3,71</td><td class=\"negative\">-3,71</td><td class=\"negative\">-1,34</td><td>11,71</td><td>12,02</td><td>60,65 M</td></tr><tr role=\"row\" class=\"odd\"><td><a href=\"https://www.infomoney.com.br/CCRO3\">CCRO3</a></td><td>06/01</td><td>10,45</td><td class=\"positive sorting_1\">1,16</td><td class=\"negative\">-3,42</td><td class=\"negative\">-3,42</td><td class=\"negative\">-3,42</td><td class=\"negative\">-2,29</td><td>10,36</td><td>10,62</td><td>72,26 M</td></tr><tr role=\"row\" class=\"even\"><td><a href=\"https://www.infomoney.com.br/UGPA3\">UGPA3</a></td><td>06/01</td><td>12,34</td><td class=\"positive sorting_1\">1,14</td><td class=\"negative\">-2,14</td><td class=\"negative\">-2,14</td><td class=\"negative\">-2,14</td><td class=\"negative\">-1,26</td><td>12,11</td><td>12,48</td><td>56,71 M</td></tr><tr role=\"row\" class=\"odd\"><td><a href=\"https://www.infomoney.com.br/USIM5\">USIM5</a></td><td>06/01</td><td>7,59</td><td class=\"positive sorting_1\">1,06</td><td class=\"positive\">6,01</td><td class=\"positive\">6,01</td><td class=\"positive\">6,01</td><td class=\"negative\">-42,89</td><td>7,51</td><td>7,77</td><td>140,47 M</td></tr><tr role=\"row\" class=\"even\"><td><a href=\"https://www.infomoney.com.br/RDOR3\">RDOR3</a></td><td>06/01</td><td>27,94</td><td class=\"positive sorting_1\">1,04</td><td class=\"negative\">-5,54</td><td class=\"negative\">-5,54</td><td class=\"negative\">-5,54</td><td class=\"negative\">-30,13</td><td>27,01</td><td>28,46</td><td>111,3 M</td></tr><tr role=\"row\" class=\"odd\"><td><a href=\"https://www.infomoney.com.br/MRVE3\">MRVE3</a></td><td>06/01</td><td>7,55</td><td class=\"positive sorting_1\">0,93</td><td class=\"negative\">-0,66</td><td class=\"negative\">-0,66</td><td class=\"negative\">-0,66</td><td class=\"negative\">-25,32</td><td>7,29</td><td>7,78</td><td>95,92 M</td></tr><tr role=\"row\" class=\"even\"><td><a href=\"https://www.infomoney.com.br/RAIL3\">RAIL3</a></td><td>06/01</td><td>17,80</td><td class=\"positive sorting_1\">0,90</td><td class=\"negative\">-4,35</td><td class=\"negative\">-4,35</td><td class=\"negative\">-4,35</td><td class=\"positive\">10,68</td><td>17,54</td><td>17,95</td><td>93,38 M</td></tr><tr role=\"row\" class=\"odd\"><td><a href=\"https://www.infomoney.com.br/CASH3\">CASH3</a></td><td>06/01</td><td>1,15</td><td class=\"positive sorting_1\">0,87</td><td class=\"negative\">-2,54</td><td class=\"negative\">-2,54</td><td class=\"negative\">-2,54</td><td class=\"negative\">-55,94</td><td>1,12</td><td>1,17</td><td>27,25 M</td></tr><tr role=\"row\" class=\"even\"><td><a href=\"https://www.infomoney.com.br/GGBR4\">GGBR4</a></td><td>06/01</td><td>30,33</td><td class=\"positive sorting_1\">0,76</td><td class=\"positive\">3,27</td><td class=\"positive\">3,27</td><td class=\"positive\">3,27</td><td class=\"positive\">26,69</td><td>30,28</td><td>31,06</td><td>347,36 M</td></tr><tr role=\"row\" class=\"odd\"><td><a href=\"https://www.infomoney.com.br/GOAU4\">GOAU4</a></td><td>06/01</td><td>13,35</td><td class=\"positive sorting_1\">0,75</td><td class=\"positive\">2,93</td><td class=\"positive\">2,93</td><td class=\"positive\">2,93</td><td class=\"positive\">31,61</td><td>13,23</td><td>13,61</td><td>136,9 M</td></tr><tr role=\"row\" class=\"even\"><td><a href=\"https://www.infomoney.com.br/CRFB3\">CRFB3</a></td><td>06/01</td><td>14,79</td><td class=\"positive sorting_1\">0,68</td><td class=\"positive\">0,07</td><td class=\"positive\">0,07</td><td class=\"positive\">0,07</td><td class=\"positive\">5,42</td><td>14,62</td><td>15,21</td><td>58,76 M</td></tr><tr role=\"row\" class=\"odd\"><td><a href=\"https://www.infomoney.com.br/VBBR3\">VBBR3</a></td><td>06/01</td><td>14,85</td><td class=\"positive sorting_1\">0,67</td><td class=\"negative\">-4,50</td><td class=\"negative\">-4,50</td><td class=\"negative\">-4,50</td><td class=\"negative\">-19,31</td><td>14,61</td><td>15,06</td><td>103,57 M</td></tr><tr role=\"row\" class=\"even\"><td><a href=\"https://www.infomoney.com.br/SMTO3\">SMTO3</a></td><td>06/01</td><td>22,55</td><td class=\"positive sorting_1\">0,62</td><td class=\"negative\">-14,97</td><td class=\"negative\">-14,97</td><td class=\"negative\">-14,97</td><td class=\"negative\">-30,01</td><td>22,12</td><td>22,88</td><td>57,28 M</td></tr><tr role=\"row\" class=\"odd\"><td><a href=\"https://www.infomoney.com.br/PRIO3\">PRIO3</a></td><td>06/01</td><td>35,18</td><td class=\"positive sorting_1\">0,60</td><td class=\"negative\">-5,46</td><td class=\"negative\">-5,46</td><td class=\"negative\">-5,46</td><td class=\"positive\">85,55</td><td>33,90</td><td>35,41</td><td>346,25 M</td></tr><tr role=\"row\" class=\"even\"><td><a href=\"https://www.infomoney.com.br/BRKM5\">BRKM5</a></td><td>06/01</td><td>23,23</td><td class=\"positive sorting_1\">0,60</td><td class=\"negative\">-2,23</td><td class=\"negative\">-2,23</td><td class=\"negative\">-2,23</td><td class=\"negative\">-54,31</td><td>23,04</td><td>23,70</td><td>47,6 M</td></tr><tr role=\"row\" class=\"odd\"><td><a href=\"https://www.infomoney.com.br/JBSS3\">JBSS3</a></td><td>06/01</td><td>22,21</td><td class=\"positive sorting_1\">0,49</td><td class=\"positive\">1,00</td><td class=\"positive\">1,00</td><td class=\"positive\">1,00</td><td class=\"negative\">-34,32</td><td>21,83</td><td>22,45</td><td>123,29 M</td></tr><tr role=\"row\" class=\"even\"><td><a href=\"https://www.infomoney.com.br/PCAR3\">PCAR3</a></td><td>06/01</td><td>16,71</td><td class=\"positive sorting_1\">0,48</td><td class=\"positive\">1,15</td><td class=\"positive\">1,15</td><td class=\"positive\">1,15</td><td class=\"negative\">-12,53</td><td>16,55</td><td>17,15</td><td>33,45 M</td></tr><tr role=\"row\" class=\"odd\"><td><a href=\"https://www.infomoney.com.br/SBSP3\">SBSP3</a></td><td>06/01</td><td>54,93</td><td class=\"positive sorting_1\">0,45</td><td class=\"negative\">-3,90</td><td class=\"negative\">-3,90</td><td class=\"negative\">-3,90</td><td class=\"positive\">54,84</td><td>54,36</td><td>55,37</td><td>91,2 M</td></tr><tr role=\"row\" class=\"even\"><td><a href=\"https://www.infomoney.com.br/BRAP4\">BRAP4</a></td><td>06/01</td><td>30,69</td><td class=\"positive sorting_1\">0,35</td><td class=\"positive\">3,26</td><td class=\"positive\">3,26</td><td class=\"positive\">3,26</td><td class=\"positive\">34,45</td><td>30,43</td><td>31,11</td><td>96,83 M</td></tr><tr role=\"row\" class=\"odd\"><td><a href=\"https://www.infomoney.com.br/ASAI3\">ASAI3</a></td><td>06/01</td><td>19,04</td><td class=\"positive sorting_1\">0,31</td><td class=\"negative\">-2,21</td><td class=\"negative\">-2,21</td><td class=\"negative\">-2,21</td><td class=\"positive\">65,92</td><td>18,86</td><td>19,53</td><td>95,49 M</td></tr><tr role=\"row\" class=\"even\"><td><a href=\"https://www.infomoney.com.br/EGIE3\">EGIE3</a></td><td>06/01</td><td>36,87</td><td class=\"positive sorting_1\">0,29</td><td class=\"negative\">-2,67</td><td class=\"negative\">-2,67</td><td class=\"negative\">-2,67</td><td class=\"positive\">8,29</td><td>36,50</td><td>37,02</td><td>51,57 M</td></tr><tr role=\"row\" class=\"odd\"><td><a href=\"https://www.infomoney.com.br/ABEV3\">ABEV3</a></td><td>06/01</td><td>14,32</td><td class=\"positive sorting_1\">0,20</td><td class=\"negative\">-1,38</td><td class=\"negative\">-1,38</td><td class=\"negative\">-1,38</td><td class=\"positive\">1,28</td><td>14,16</td><td>14,36</td><td>298,29 M</td></tr><tr role=\"row\" class=\"even\"><td><a href=\"https://www.infomoney.com.br/ALPA4\">ALPA4</a></td><td>06/01</td><td>13,87</td><td class=\"positive sorting_1\">0,07</td><td class=\"negative\">-8,02</td><td class=\"negative\">-8,02</td><td class=\"negative\">-8,02</td><td class=\"negative\">-57,38</td><td>13,67</td><td>14,30</td><td>52,29 M</td></tr><tr role=\"row\" class=\"odd\"><td><a href=\"https://www.infomoney.com.br/ELET3\">ELET3</a></td><td>06/01</td><td>41,00</td><td class=\"positive sorting_1\">0,04</td><td class=\"negative\">-2,66</td><td class=\"negative\">-2,66</td><td class=\"negative\">-2,66</td><td class=\"positive\">31,56</td><td>40,86</td><td>41,85</td><td>377,45 M</td></tr><tr role=\"row\" class=\"even\"><td><a href=\"https://www.infomoney.com.br/CMIG4\">CMIG4</a></td><td>06/01</td><td>10,88</td><td class=\"positive sorting_1\">0,00</td><td class=\"negative\">-2,33</td><td class=\"negative\">-2,33</td><td class=\"negative\">-2,33</td><td class=\"positive\">29,60</td><td>10,78</td><td>10,94</td><td>103 M</td></tr><tr role=\"row\" class=\"odd\"><td><a href=\"https://www.infomoney.com.br/ENBR3\">ENBR3</a></td><td>06/01</td><td>19,55</td><td class=\"negative sorting_1\">-0,10</td><td class=\"negative\">-1,23</td><td class=\"negative\">-1,23</td><td class=\"negative\">-1,23</td><td class=\"positive\">10,99</td><td>19,24</td><td>19,59</td><td>122,09 M</td></tr><tr role=\"row\" class=\"even\"><td><a href=\"https://www.infomoney.com.br/MRFG3\">MRFG3</a></td><td>06/01</td><td>8,45</td><td class=\"negative sorting_1\">-0,23</td><td class=\"negative\">-2,87</td><td class=\"negative\">-2,87</td><td class=\"negative\">-2,87</td><td class=\"negative\">-50,10</td><td>8,30</td><td>8,56</td><td>92,71 M</td></tr><tr role=\"row\" class=\"odd\"><td><a href=\"https://www.infomoney.com.br/ELET6\">ELET6</a></td><td>06/01</td><td>42,20</td><td class=\"negative sorting_1\">-0,23</td><td class=\"negative\">-2,38</td><td class=\"negative\">-2,38</td><td class=\"negative\">-2,38</td><td class=\"positive\">40,58</td><td>42,06</td><td>43,13</td><td>68,7 M</td></tr><tr role=\"row\" class=\"even\"><td><a href=\"https://www.infomoney.com.br/RAIZ4\">RAIZ4</a></td><td>06/01</td><td>3,22</td><td class=\"negative sorting_1\">-0,30</td><td class=\"negative\">-13,90</td><td class=\"negative\">-13,90</td><td class=\"negative\">-13,90</td><td class=\"negative\">-40,35</td><td>3,17</td><td>3,28</td><td>122,33 M</td></tr><tr role=\"row\" class=\"odd\"><td><a href=\"https://www.infomoney.com.br/EQTL3\">EQTL3</a></td><td>06/01</td><td>25,60</td><td class=\"negative sorting_1\">-0,31</td><td class=\"negative\">-5,26</td><td class=\"negative\">-5,26</td><td class=\"negative\">-5,26</td><td class=\"positive\">25,83</td><td>25,48</td><td>25,84</td><td>268,36 M</td></tr><tr role=\"row\" class=\"even\"><td><a href=\"https://www.infomoney.com.br/SLCE3\">SLCE3</a></td><td>06/01</td><td>44,50</td><td class=\"negative sorting_1\">-0,55</td><td class=\"negative\">-5,14</td><td class=\"negative\">-5,14</td><td class=\"negative\">-5,14</td><td class=\"positive\">8,67</td><td>44,08</td><td>45,50</td><td>63,84 M</td></tr><tr role=\"row\" class=\"odd\"><td><a href=\"https://www.infomoney.com.br/DXCO3\">DXCO3</a></td><td>06/01</td><td>6,81</td><td class=\"negative sorting_1\">-0,58</td><td class=\"positive\">0,44</td><td class=\"positive\">0,44</td><td class=\"positive\">0,44</td><td class=\"negative\">-42,39</td><td>6,75</td><td>6,95</td><td>27,27 M</td></tr><tr role=\"row\" class=\"even\"><td><a href=\"https://www.infomoney.com.br/PETR4\">PETR4</a></td><td>06/01</td><td>23,74</td><td class=\"negative sorting_1\">-0,58</td><td class=\"negative\">-3,10</td><td class=\"negative\">-3,10</td><td class=\"negative\">-3,10</td><td class=\"positive\">44,08</td><td>23,55</td><td>24,32</td><td>1,23 B</td></tr><tr role=\"row\" class=\"odd\"><td><a href=\"https://www.infomoney.com.br/LWSA3\">LWSA3</a></td><td>06/01</td><td>6,50</td><td class=\"negative sorting_1\">-0,61</td><td class=\"negative\">-7,41</td><td class=\"negative\">-7,41</td><td class=\"negative\">-7,41</td><td class=\"negative\">-35,90</td><td>6,35</td><td>6,85</td><td>91,34 M</td></tr><tr role=\"row\" class=\"even\"><td><a href=\"https://www.infomoney.com.br/PETR3\">PETR3</a></td><td>06/01</td><td>26,91</td><td class=\"negative sorting_1\">-0,62</td><td class=\"negative\">-4,03</td><td class=\"negative\">-4,03</td><td class=\"negative\">-4,03</td><td class=\"positive\">42,19</td><td>26,82</td><td>27,73</td><td>381,74 M</td></tr><tr role=\"row\" class=\"odd\"><td><a href=\"https://www.infomoney.com.br/SUZB3\">SUZB3</a></td><td>06/01</td><td>49,94</td><td class=\"negative sorting_1\">-0,63</td><td class=\"positive\">3,52</td><td class=\"positive\">3,52</td><td class=\"positive\">3,52</td><td class=\"negative\">-11,32</td><td>49,60</td><td>50,70</td><td>339,92 M</td></tr><tr role=\"row\" class=\"even\"><td><a href=\"https://www.infomoney.com.br/HAPV3\">HAPV3</a></td><td>06/01</td><td>4,72</td><td class=\"negative sorting_1\">-1,04</td><td class=\"negative\">-7,09</td><td class=\"negative\">-7,09</td><td class=\"negative\">-7,09</td><td class=\"negative\">-51,39</td><td>4,54</td><td>4,79</td><td>325,26 M</td></tr><tr role=\"row\" class=\"odd\"><td><a href=\"https://www.infomoney.com.br/CPFE3\">CPFE3</a></td><td>06/01</td><td>31,86</td><td class=\"negative sorting_1\">-1,05</td><td class=\"negative\">-4,04</td><td class=\"negative\">-4,04</td><td class=\"negative\">-4,04</td><td class=\"positive\">41,17</td><td>31,62</td><td>32,44</td><td>41,17 M</td></tr><tr role=\"row\" class=\"even\"><td><a href=\"https://www.infomoney.com.br/CPLE6\">CPLE6</a></td><td>06/01</td><td>7,54</td><td class=\"negative sorting_1\">-1,43</td><td class=\"negative\">-4,68</td><td class=\"negative\">-4,68</td><td class=\"negative\">-4,68</td><td class=\"positive\">37,33</td><td>7,46</td><td>7,70</td><td>105,87 M</td></tr><tr role=\"row\" class=\"odd\"><td><a href=\"https://www.infomoney.com.br/EMBR3\">EMBR3</a></td><td>06/01</td><td>14,55</td><td class=\"negative sorting_1\">-1,68</td><td class=\"positive\">1,68</td><td class=\"positive\">1,68</td><td class=\"positive\">1,68</td><td class=\"negative\">-39,10</td><td>14,54</td><td>15,00</td><td>73,72 M</td></tr></tbody></table>'"
      ]
     },
     "execution_count": 21,
     "metadata": {},
     "output_type": "execute_result"
    }
   ],
   "source": [
    "tabela_din"
   ]
  },
  {
   "cell_type": "code",
   "execution_count": 23,
   "id": "943e625b",
   "metadata": {
    "scrolled": false
   },
   "outputs": [
    {
     "data": {
      "text/html": [
       "<div>\n",
       "<style scoped>\n",
       "    .dataframe tbody tr th:only-of-type {\n",
       "        vertical-align: middle;\n",
       "    }\n",
       "\n",
       "    .dataframe tbody tr th {\n",
       "        vertical-align: top;\n",
       "    }\n",
       "\n",
       "    .dataframe thead th {\n",
       "        text-align: right;\n",
       "    }\n",
       "</style>\n",
       "<table border=\"1\" class=\"dataframe\">\n",
       "  <thead>\n",
       "    <tr style=\"text-align: right;\">\n",
       "      <th></th>\n",
       "      <th>Ativo</th>\n",
       "      <th>Data</th>\n",
       "      <th>Último (R$)</th>\n",
       "      <th>Var. Dia (%)</th>\n",
       "      <th>Var. Sem. (%)</th>\n",
       "      <th>Var. Mês (%)</th>\n",
       "      <th>Var. Ano (%)</th>\n",
       "      <th>Var. 12M (%)</th>\n",
       "      <th>Val. Mín</th>\n",
       "      <th>Val. Máx</th>\n",
       "      <th>Volume</th>\n",
       "    </tr>\n",
       "  </thead>\n",
       "  <tbody>\n",
       "    <tr>\n",
       "      <th>0</th>\n",
       "      <td>AMER3</td>\n",
       "      <td>06/01</td>\n",
       "      <td>10.41</td>\n",
       "      <td>7.43</td>\n",
       "      <td>7.88</td>\n",
       "      <td>7.88</td>\n",
       "      <td>7.88</td>\n",
       "      <td>-63.52</td>\n",
       "      <td>9.58</td>\n",
       "      <td>10.43</td>\n",
       "      <td>293,14 M</td>\n",
       "    </tr>\n",
       "    <tr>\n",
       "      <th>1</th>\n",
       "      <td>QUAL3</td>\n",
       "      <td>06/01</td>\n",
       "      <td>6.32</td>\n",
       "      <td>6.57</td>\n",
       "      <td>7.67</td>\n",
       "      <td>7.67</td>\n",
       "      <td>7.67</td>\n",
       "      <td>-57.81</td>\n",
       "      <td>5.82</td>\n",
       "      <td>6.32</td>\n",
       "      <td>33,86 M</td>\n",
       "    </tr>\n",
       "    <tr>\n",
       "      <th>2</th>\n",
       "      <td>CVCB3</td>\n",
       "      <td>06/01</td>\n",
       "      <td>4.62</td>\n",
       "      <td>6.20</td>\n",
       "      <td>2.90</td>\n",
       "      <td>2.90</td>\n",
       "      <td>2.90</td>\n",
       "      <td>-59.15</td>\n",
       "      <td>4.29</td>\n",
       "      <td>4.62</td>\n",
       "      <td>83,36 M</td>\n",
       "    </tr>\n",
       "    <tr>\n",
       "      <th>3</th>\n",
       "      <td>CMIN3</td>\n",
       "      <td>06/01</td>\n",
       "      <td>4.30</td>\n",
       "      <td>6.17</td>\n",
       "      <td>5.39</td>\n",
       "      <td>5.39</td>\n",
       "      <td>5.39</td>\n",
       "      <td>-22.49</td>\n",
       "      <td>4.10</td>\n",
       "      <td>4.35</td>\n",
       "      <td>81,45 M</td>\n",
       "    </tr>\n",
       "    <tr>\n",
       "      <th>4</th>\n",
       "      <td>ENEV3</td>\n",
       "      <td>06/01</td>\n",
       "      <td>12.38</td>\n",
       "      <td>5.72</td>\n",
       "      <td>3.77</td>\n",
       "      <td>3.77</td>\n",
       "      <td>3.77</td>\n",
       "      <td>1.39</td>\n",
       "      <td>11.69</td>\n",
       "      <td>12.45</td>\n",
       "      <td>156,96 M</td>\n",
       "    </tr>\n",
       "    <tr>\n",
       "      <th>...</th>\n",
       "      <td>...</td>\n",
       "      <td>...</td>\n",
       "      <td>...</td>\n",
       "      <td>...</td>\n",
       "      <td>...</td>\n",
       "      <td>...</td>\n",
       "      <td>...</td>\n",
       "      <td>...</td>\n",
       "      <td>...</td>\n",
       "      <td>...</td>\n",
       "      <td>...</td>\n",
       "    </tr>\n",
       "    <tr>\n",
       "      <th>78</th>\n",
       "      <td>SUZB3</td>\n",
       "      <td>06/01</td>\n",
       "      <td>49.94</td>\n",
       "      <td>-0.63</td>\n",
       "      <td>3.52</td>\n",
       "      <td>3.52</td>\n",
       "      <td>3.52</td>\n",
       "      <td>-11.32</td>\n",
       "      <td>49.60</td>\n",
       "      <td>50.70</td>\n",
       "      <td>339,92 M</td>\n",
       "    </tr>\n",
       "    <tr>\n",
       "      <th>79</th>\n",
       "      <td>HAPV3</td>\n",
       "      <td>06/01</td>\n",
       "      <td>4.72</td>\n",
       "      <td>-1.04</td>\n",
       "      <td>-7.09</td>\n",
       "      <td>-7.09</td>\n",
       "      <td>-7.09</td>\n",
       "      <td>-51.39</td>\n",
       "      <td>4.54</td>\n",
       "      <td>4.79</td>\n",
       "      <td>325,26 M</td>\n",
       "    </tr>\n",
       "    <tr>\n",
       "      <th>80</th>\n",
       "      <td>CPFE3</td>\n",
       "      <td>06/01</td>\n",
       "      <td>31.86</td>\n",
       "      <td>-1.05</td>\n",
       "      <td>-4.04</td>\n",
       "      <td>-4.04</td>\n",
       "      <td>-4.04</td>\n",
       "      <td>41.17</td>\n",
       "      <td>31.62</td>\n",
       "      <td>32.44</td>\n",
       "      <td>41,17 M</td>\n",
       "    </tr>\n",
       "    <tr>\n",
       "      <th>81</th>\n",
       "      <td>CPLE6</td>\n",
       "      <td>06/01</td>\n",
       "      <td>7.54</td>\n",
       "      <td>-1.43</td>\n",
       "      <td>-4.68</td>\n",
       "      <td>-4.68</td>\n",
       "      <td>-4.68</td>\n",
       "      <td>37.33</td>\n",
       "      <td>7.46</td>\n",
       "      <td>7.70</td>\n",
       "      <td>105,87 M</td>\n",
       "    </tr>\n",
       "    <tr>\n",
       "      <th>82</th>\n",
       "      <td>EMBR3</td>\n",
       "      <td>06/01</td>\n",
       "      <td>14.55</td>\n",
       "      <td>-1.68</td>\n",
       "      <td>1.68</td>\n",
       "      <td>1.68</td>\n",
       "      <td>1.68</td>\n",
       "      <td>-39.10</td>\n",
       "      <td>14.54</td>\n",
       "      <td>15.00</td>\n",
       "      <td>73,72 M</td>\n",
       "    </tr>\n",
       "  </tbody>\n",
       "</table>\n",
       "<p>83 rows × 11 columns</p>\n",
       "</div>"
      ],
      "text/plain": [
       "    Ativo   Data  Último (R$)  Var. Dia (%)  Var. Sem. (%)  Var. Mês (%)  \\\n",
       "0   AMER3  06/01        10.41          7.43           7.88          7.88   \n",
       "1   QUAL3  06/01         6.32          6.57           7.67          7.67   \n",
       "2   CVCB3  06/01         4.62          6.20           2.90          2.90   \n",
       "3   CMIN3  06/01         4.30          6.17           5.39          5.39   \n",
       "4   ENEV3  06/01        12.38          5.72           3.77          3.77   \n",
       "..    ...    ...          ...           ...            ...           ...   \n",
       "78  SUZB3  06/01        49.94         -0.63           3.52          3.52   \n",
       "79  HAPV3  06/01         4.72         -1.04          -7.09         -7.09   \n",
       "80  CPFE3  06/01        31.86         -1.05          -4.04         -4.04   \n",
       "81  CPLE6  06/01         7.54         -1.43          -4.68         -4.68   \n",
       "82  EMBR3  06/01        14.55         -1.68           1.68          1.68   \n",
       "\n",
       "    Var. Ano (%)  Var. 12M (%)  Val. Mín  Val. Máx    Volume  \n",
       "0           7.88        -63.52      9.58     10.43  293,14 M  \n",
       "1           7.67        -57.81      5.82      6.32   33,86 M  \n",
       "2           2.90        -59.15      4.29      4.62   83,36 M  \n",
       "3           5.39        -22.49      4.10      4.35   81,45 M  \n",
       "4           3.77          1.39     11.69     12.45  156,96 M  \n",
       "..           ...           ...       ...       ...       ...  \n",
       "78          3.52        -11.32     49.60     50.70  339,92 M  \n",
       "79         -7.09        -51.39      4.54      4.79  325,26 M  \n",
       "80         -4.04         41.17     31.62     32.44   41,17 M  \n",
       "81         -4.68         37.33      7.46      7.70  105,87 M  \n",
       "82          1.68        -39.10     14.54     15.00   73,72 M  \n",
       "\n",
       "[83 rows x 11 columns]"
      ]
     },
     "execution_count": 23,
     "metadata": {},
     "output_type": "execute_result"
    }
   ],
   "source": [
    "dataframe = pd.read_html(tabela_din, decimal = ',', thousands = '.')\n",
    "dataframe[0]"
   ]
  },
  {
   "cell_type": "code",
   "execution_count": null,
   "id": "afade952",
   "metadata": {},
   "outputs": [],
   "source": []
  },
  {
   "cell_type": "code",
   "execution_count": null,
   "id": "d3dc284f",
   "metadata": {},
   "outputs": [],
   "source": []
  }
 ],
 "metadata": {
  "kernelspec": {
   "display_name": "Python 3 (ipykernel)",
   "language": "python",
   "name": "python3"
  },
  "language_info": {
   "codemirror_mode": {
    "name": "ipython",
    "version": 3
   },
   "file_extension": ".py",
   "mimetype": "text/x-python",
   "name": "python",
   "nbconvert_exporter": "python",
   "pygments_lexer": "ipython3",
   "version": "3.11.1"
  }
 },
 "nbformat": 4,
 "nbformat_minor": 5
}
